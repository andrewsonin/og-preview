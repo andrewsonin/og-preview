{
 "cells": [
  {
   "cell_type": "code",
   "execution_count": 1,
   "id": "48c5765d-0a07-48d1-b4e7-def029a02aaf",
   "metadata": {
    "jupyter": {
     "is_executing": true
    }
   },
   "outputs": [],
   "source": [
    "from og_preview import generate_og_images, ArticleInfo"
   ]
  },
  {
   "cell_type": "code",
   "execution_count": 2,
   "id": "46d3babb-3ee3-48c7-b07a-0129e4126e78",
   "metadata": {},
   "outputs": [],
   "source": [
    "generate_og_images(\n",
    "    ArticleInfo(\n",
    "        title='Lorem Ipsum',\n",
    "        description='Dolor sit amet',\n",
    "        author='Andrew Sonin',\n",
    "        url='andrewsonin.github.io/blog',\n",
    "        output_path='og-image-anti-alias.png'\n",
    "    ),\n",
    "    avatar_url='https://gravatar.com/avatar/5838c16fa65bbc16b5eedc94e9369d7d?s=800',\n",
    "    logo_path='favicon.png',\n",
    ")"
   ]
  },
  {
   "cell_type": "code",
   "execution_count": null,
   "id": "9f44bb78-555a-4d87-9df1-81e2e0dfebb6",
   "metadata": {},
   "outputs": [],
   "source": []
  }
 ],
 "metadata": {
  "kernelspec": {
   "display_name": "Python 3 (ipykernel)",
   "language": "python",
   "name": "python3"
  },
  "language_info": {
   "codemirror_mode": {
    "name": "ipython",
    "version": 3
   },
   "file_extension": ".py",
   "mimetype": "text/x-python",
   "name": "python",
   "nbconvert_exporter": "python",
   "pygments_lexer": "ipython3",
   "version": "3.13.3"
  }
 },
 "nbformat": 4,
 "nbformat_minor": 5
}
