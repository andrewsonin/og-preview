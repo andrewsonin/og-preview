{
 "cells": [
  {
   "cell_type": "code",
   "id": "48c5765d-0a07-48d1-b4e7-def029a02aaf",
   "metadata": {
    "jupyter": {
     "is_executing": true
    }
   },
   "source": [
    "from og_preview import generate_og_images, ArticleInfo"
   ],
   "outputs": [],
   "execution_count": null
  },
  {
   "cell_type": "code",
   "execution_count": 2,
   "id": "46d3babb-3ee3-48c7-b07a-0129e4126e78",
   "metadata": {},
   "outputs": [],
   "source": [
    "generate_og_images(\n",
    "    ArticleInfo(\n",
    "        title='Lorem Ipsum',\n",
    "        description='Dolor sit amet',\n",
    "        author='Andrew Sonin',\n",
    "        url='andrewsonin.github.io/blog',\n",
    "        output_path='og-image-anti-alias.png'\n",
    "    ),\n",
    "    avatar_path='favicon.png',\n",
    "    logo_path='favicon.png',\n",
    ")"
   ]
  }
 ],
 "metadata": {
  "kernelspec": {
   "display_name": "Python 3 (ipykernel)",
   "language": "python",
   "name": "python3"
  },
  "language_info": {
   "codemirror_mode": {
    "name": "ipython",
    "version": 3
   },
   "file_extension": ".py",
   "mimetype": "text/x-python",
   "name": "python",
   "nbconvert_exporter": "python",
   "pygments_lexer": "ipython3",
   "version": "3.13.3"
  }
 },
 "nbformat": 4,
 "nbformat_minor": 5
}
